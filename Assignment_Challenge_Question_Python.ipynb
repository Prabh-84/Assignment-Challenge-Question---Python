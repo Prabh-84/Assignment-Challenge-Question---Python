{
  "nbformat": 4,
  "nbformat_minor": 0,
  "metadata": {
    "colab": {
      "provenance": [],
      "authorship_tag": "ABX9TyOdxEnIjri9VcG9PnxtskZ1",
      "include_colab_link": true
    },
    "kernelspec": {
      "name": "python3",
      "display_name": "Python 3"
    },
    "language_info": {
      "name": "python"
    }
  },
  "cells": [
    {
      "cell_type": "markdown",
      "metadata": {
        "id": "view-in-github",
        "colab_type": "text"
      },
      "source": [
        "<a href=\"https://colab.research.google.com/github/Prabh-84/Assignment-Challenge-Question---Python/blob/main/Assignment_Challenge_Question_Python.ipynb\" target=\"_parent\"><img src=\"https://colab.research.google.com/assets/colab-badge.svg\" alt=\"Open In Colab\"/></a>"
      ]
    },
    {
      "cell_type": "markdown",
      "source": [
        "--------------------------------------------------------------------------------------------------------------------------\n",
        "1. Write a python program to sort the list of heterogeneous data.\n",
        "e.g.L = [\"Ram\", 1, \"Shyam\", 2, \"Aman\", 3,34,0,234,\"Raman\",\"Daman\"]\n"
      ],
      "metadata": {
        "id": "yZPxK-bQmihR"
      }
    },
    {
      "cell_type": "code",
      "execution_count": 2,
      "metadata": {
        "colab": {
          "base_uri": "https://localhost:8080/"
        },
        "id": "XuGclPu7mbUs",
        "outputId": "2defdb03-64ad-4c95-8c5d-4d166803ac20"
      },
      "outputs": [
        {
          "output_type": "stream",
          "name": "stdout",
          "text": [
            "[0, 1, 2, 3, 34, 234, 'Aman', 'Daman', 'Ram', 'Raman', 'Shyam']\n"
          ]
        }
      ],
      "source": [
        "def sort_heterogeneous(list1):\n",
        "    integers = []\n",
        "    strings = []\n",
        "    others = []\n",
        "\n",
        "    for element in list1:\n",
        "        if isinstance(element, int):\n",
        "            integers.append(element)\n",
        "        elif isinstance(element, str):\n",
        "            strings.append(element)\n",
        "        else:\n",
        "            others.append(element)\n",
        "\n",
        "    integers.sort()\n",
        "    strings.sort()\n",
        "\n",
        "    sorted_list = integers + strings + others\n",
        "\n",
        "    return sorted_list\n",
        "\n",
        "L = [\"Ram\", 1, \"Shyam\", 2, \"Aman\", 3,34,0,234,\"Raman\",\"Daman\"]\n",
        "print(sort_heterogeneous(L))"
      ]
    }
  ]
}